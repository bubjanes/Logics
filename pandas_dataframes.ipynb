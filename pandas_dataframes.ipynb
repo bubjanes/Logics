{
 "cells": [
  {
   "cell_type": "code",
   "execution_count": null,
   "metadata": {},
   "outputs": [],
   "source": [
    "\"\"\" This is a logic I took from sentdex. It think it is a really great way to name new data fram\"\"\"\n",
    "\n",
    "graph_df = pd.DataFrame()\n",
    "\n",
    "for region in df['region'].unique()[:16]:\n",
    "    print(region)\n",
    "    region_df = df.copy()[df['region']==region]\n",
    "    region_df.set_index('Date', inplace=True)\n",
    "    region_df.sort_index(inplace=True)\n",
    "    region_df[f\"{region}_price25ma\"] = region_df[\"AveragePrice\"].rolling(25).mean()\n",
    "\n",
    "    if graph_df.empty:\n",
    "        graph_df = region_df[[f\"{region}_price25ma\"]]  # note the double square brackets!\n",
    "    else:\n",
    "        graph_df = graph_df.join(region_df[f\"{region}_price25ma\"])"
   ]
  }
 ],
 "metadata": {
  "kernelspec": {
   "display_name": "Python 3",
   "language": "python",
   "name": "python3"
  },
  "language_info": {
   "codemirror_mode": {
    "name": "ipython",
    "version": 3
   },
   "file_extension": ".py",
   "mimetype": "text/x-python",
   "name": "python",
   "nbconvert_exporter": "python",
   "pygments_lexer": "ipython3",
   "version": "3.7.2"
  }
 },
 "nbformat": 4,
 "nbformat_minor": 2
}
